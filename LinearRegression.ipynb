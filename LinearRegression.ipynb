{
 "cells": [
  {
   "cell_type": "code",
   "execution_count": 1,
   "metadata": {},
   "outputs": [],
   "source": [
    "import pandas as pd\n",
    "import numpy as np\n",
    "import matplotlib.pyplot as plt"
   ]
  },
  {
   "cell_type": "markdown",
   "metadata": {},
   "source": [
    "# Preprocessing"
   ]
  },
  {
   "cell_type": "code",
   "execution_count": 2,
   "metadata": {},
   "outputs": [
    {
     "data": {
      "text/plain": [
       "((100, 11), (100, 101), (1000, 101), (1000, 11), (1000, 101), (1000, 101))"
      ]
     },
     "execution_count": 2,
     "metadata": {},
     "output_type": "execute_result"
    }
   ],
   "source": [
    "#create x0 where equals to 1,where w0 = b --> x0*w0 = b\n",
    "x1000 = pd.DataFrame([1] * 1000)\n",
    "x100 = pd.DataFrame([1] * 100)\n",
    "\n",
    "# read 3 dataset csv file and change to dataframe using pandas\n",
    "train1 = pd.DataFrame(pd.read_csv('train-100-10.csv'))\n",
    "train2 = pd.DataFrame(pd.read_csv('train-100-100.csv'))\n",
    "train3 = pd.DataFrame(pd.read_csv('train-1000-100.csv'))\n",
    "\n",
    "test1 = pd.DataFrame(pd.read_csv('test-100-10.csv'))\n",
    "test2 = pd.DataFrame(pd.read_csv('test-100-100.csv'))\n",
    "test3 = pd.DataFrame(pd.read_csv('test-1000-100.csv'))\n",
    "train1.shape,train2.shape,train3.shape,test1.shape,test2.shape,test3.shape,"
   ]
  },
  {
   "cell_type": "code",
   "execution_count": 3,
   "metadata": {},
   "outputs": [],
   "source": [
    "# add x0 into dataset \n",
    "train1 = pd.concat([x100,train1],axis = 1)\n",
    "train2 = pd.concat([x100,train2],axis = 1)\n",
    "train3 = pd.concat([x1000,train3],axis = 1)\n",
    "\n",
    "test1 = pd.concat([x1000,test1],axis = 1)\n",
    "test2 = pd.concat([x1000,test2],axis = 1)\n",
    "test3 = pd.concat([x1000,test3],axis = 1)\n"
   ]
  },
  {
   "cell_type": "code",
   "execution_count": 4,
   "metadata": {},
   "outputs": [],
   "source": [
    "# Creating 3 additional trianing files from trianing-1000-10 by taking the first 50, 100, and 150 instances\n",
    "train50 = train3.iloc[0:50,:]\n",
    "train100 = train3.iloc[0:100,:]\n",
    "train150 = train3.iloc[0:150,:]\n",
    "train50.to_csv('train-50(1000)-100.csv')\n",
    "train100.to_csv('train-100(1000)-100.csv')\n",
    "train150.to_csv('train-150(1000)-100.csv')"
   ]
  },
  {
   "cell_type": "code",
   "execution_count": 5,
   "metadata": {},
   "outputs": [],
   "source": [
    "# Transfer dataset to fit L2_regularized\n",
    "def Transfer_xy(dataset):      # input is a dataframe\n",
    "    x = dataset.drop('y',axis =1).values\n",
    "    y = dataset['y'].values.reshape(-1,1)\n",
    "    return x,y"
   ]
  },
  {
   "cell_type": "code",
   "execution_count": 6,
   "metadata": {},
   "outputs": [],
   "source": [
    "def L2_regularized(x,y,xtest,ytest): \n",
    "    '''\n",
    "    input:x,y are np.ndarray from training data; xtest,ytest are np.ndarray from test data\n",
    "    output: print the Minimum Mean Square Error of training data and testing data corresponding to lambda\n",
    "    '''\n",
    "    λ = np.arange(0,151)\n",
    "    w_L2 = []\n",
    "    MSE_train = []\n",
    "    MSE_test = []\n",
    "    \n",
    "    for i in λ:\n",
    "        w = np.dot(np.linalg.inv(x.T.dot(x)+λ[i]*np.eye(len(x[0]))),x.T).dot(y)\n",
    "        \n",
    "        MSEtrain = ((x.dot(w)-y)**2).mean()\n",
    "        MSE_train.append(MSEtrain)\n",
    "        \n",
    "        MSEtest = ((xtest.dot(w)-ytest)**2).mean()\n",
    "        MSE_test.append(MSEtest)\n",
    "        w_L2.append(w)\n",
    "        \n",
    "    print('The Minimum Mean Square error is :{}'.format(min(MSE_train)))\n",
    "    print(\"for best λ is :{}\".format(MSE_train.index(min(MSE_train))))\n",
    "    print('The Minimum Mean Square error is :{}'.format(min(MSE_test)))\n",
    "    print(\"for best λ is :{}\".format(MSE_test.index(min(MSE_test))))\n",
    "    \n",
    "    #return MSE_train, MSE_test\n",
    "\n",
    "    #return MSE\n",
    "    #print(len(MSE_train),len(MSE_test))\n",
    "    \n",
    "    #plt.figure(figsize = (10,6),dpi=300)   \n",
    "    #plt.plot(list(λ),MSE_train,color= 'b')\n",
    "    #plt.plot(list(λ),MSE_test,color='r')\n",
    "    #plt.xlabel('Lambda')\n",
    "    #plt.ylabel('Mean Squared Error')\n",
    "    #plt.show()"
   ]
  },
  {
   "cell_type": "markdown",
   "metadata": {},
   "source": [
    "# Minimum MSE\n",
    "\n",
    "For each dataset, print the lambda that gives the minimum MSE."
   ]
  },
  {
   "cell_type": "code",
   "execution_count": 7,
   "metadata": {},
   "outputs": [
    {
     "name": "stdout",
     "output_type": "stream",
     "text": [
      "The Minimum Mean Square error is :5.450043520977647\n",
      "for best λ is :0\n",
      "The Minimum Mean Square error is :6.258031077165362\n",
      "for best λ is :9\n"
     ]
    }
   ],
   "source": [
    "xtrain1,ytrain1 = Transfer_xy(train1)\n",
    "xtest1,ytest1 = Transfer_xy(test1)\n",
    "L2_regularized(xtrain1,ytrain1,xtest1,ytest1)"
   ]
  },
  {
   "cell_type": "code",
   "execution_count": 8,
   "metadata": {},
   "outputs": [
    {
     "name": "stdout",
     "output_type": "stream",
     "text": [
      "The Minimum Mean Square error is :0.46930018051642974\n",
      "for best λ is :1\n",
      "The Minimum Mean Square error is :6.965437997045874\n",
      "for best λ is :24\n"
     ]
    }
   ],
   "source": [
    "xtrain2,ytrain2 = Transfer_xy(train2)\n",
    "xtest2,ytest2 = Transfer_xy(test2)\n",
    "L2_regularized(xtrain2,ytrain2,xtest2,ytest2)"
   ]
  },
  {
   "cell_type": "code",
   "execution_count": 9,
   "metadata": {},
   "outputs": [
    {
     "name": "stdout",
     "output_type": "stream",
     "text": [
      "The Minimum Mean Square error is :5.210034703130466\n",
      "for best λ is :0\n",
      "The Minimum Mean Square error is :6.389138883301879\n",
      "for best λ is :45\n"
     ]
    }
   ],
   "source": [
    "xtrain3,ytrain3 = Transfer_xy(train3)\n",
    "xtest3,ytest3 = Transfer_xy(test3)\n",
    "L2_regularized(xtrain3,ytrain3,xtest3,ytest3)"
   ]
  },
  {
   "cell_type": "markdown",
   "metadata": {},
   "source": [
    "# Graph\n",
    "\n",
    "Plot both the training set MSE and the test set MSE as a function lambda(x-axis) in one graph"
   ]
  },
  {
   "cell_type": "code",
   "execution_count": 10,
   "metadata": {},
   "outputs": [],
   "source": [
    "def MSE_L2_regularized(x,y,xtest,ytest):\n",
    "    '''\n",
    "    input:x,y are np.ndarray from training data; xtest,ytest are np.ndarray from test data\n",
    "    output: return the list of the Mean Square Error of training data and testing data corresponding to lambda\n",
    "    '''\n",
    "    λ = np.arange(0,151)\n",
    "    w_L2 = []\n",
    "    MSE_train = []\n",
    "    MSE_test = []\n",
    "    \n",
    "    for i in λ:\n",
    "        w = np.dot(np.linalg.inv(x.T.dot(x)+λ[i]*np.eye(len(x[0]))),x.T).dot(y)\n",
    "        \n",
    "        MSEtrain = ((x.dot(w)-y)**2).mean()\n",
    "        MSE_train.append(MSEtrain)\n",
    "        \n",
    "        MSEtest = ((xtest.dot(w)-ytest)**2).mean()\n",
    "        MSE_test.append(MSEtest)\n",
    "        w_L2.append(w)\n",
    "        \n",
    "    #print('The Minimum Mean Square error is :{}'.format(min(MSE_train)))\n",
    "    #print(\"for best λ is :{}\".format(MSE_train.index(min(MSE_train))))\n",
    "    #print('The Minimum Mean Square error is :{}'.format(min(MSE_test)))\n",
    "    #print(\"for best λ is :{}\".format(MSE_test.index(min(MSE_test))))\n",
    "    \n",
    "    return MSE_train, MSE_test"
   ]
  },
  {
   "cell_type": "code",
   "execution_count": 11,
   "metadata": {},
   "outputs": [
    {
     "data": {
      "image/png": "[encoded data removed]",
      "text/plain": [
       "<Figure size 432x288 with 1 Axes>"
      ]
     },
     "metadata": {
      "needs_background": "light"
     },
     "output_type": "display_data"
    }
   ],
   "source": [
    "#train/test-100-10.csv'\n",
    "\n",
    "xtest1,ytest1 = Transfer_xy(test1)\n",
    "xtrain1,ytrain1 = Transfer_xy(train1)\n",
    "\n",
    "MSE_train1, MSE_test1 = MSE_L2_regularized(xtrain1,ytrain1,xtest1,ytest1)\n",
    "  \n",
    "λ = np.arange(0,151)\n",
    "#plt.figure(figsize = (10,6),dpi=300)   \n",
    "plt.plot(list(λ),MSE_train1,color= 'r')\n",
    "plt.plot(list(λ),MSE_test1,color='b')\n",
    "plt.xlabel('Lambda')\n",
    "plt.ylabel('Mean Squared Error')\n",
    "plt.title(\"Train1 & Test1\")\n",
    "plt.show()\n"
   ]
  },
  {
   "cell_type": "code",
   "execution_count": 12,
   "metadata": {},
   "outputs": [
    {
     "data": {
      "image/png": "[encoded data removed]",
      "text/plain": [
       "<Figure size 432x288 with 1 Axes>"
      ]
     },
     "metadata": {
      "needs_background": "light"
     },
     "output_type": "display_data"
    }
   ],
   "source": [
    "#train-100-100.csv\n",
    "xtest2,ytest2 = Transfer_xy(train3)\n",
    "xtrain2,ytrain2 = Transfer_xy(train50)\n",
    "MSE_train2, MSE_test2 = MSE_L2_regularized(xtrain2,xtrain2,xtest2,ytest2)\n",
    "\n",
    "λ = np.arange(0,151)\n",
    "#plt.figure(figsize = (10,6),dpi=300)   \n",
    "plt.plot(list(λ),MSE_train2,color= 'r')\n",
    "plt.plot(list(λ),MSE_test2,color='b')\n",
    "plt.xlabel('Lambda')\n",
    "plt.ylabel('Mean Squared Error')\n",
    "plt.title(\"Train50 & Train3 as Test data\")\n",
    "plt.show()"
   ]
  },
  {
   "cell_type": "code",
   "execution_count": 13,
   "metadata": {},
   "outputs": [
    {
     "data": {
      "image/png": "[encoded data removed]",
      "text/plain": [
       "<Figure size 432x288 with 1 Axes>"
      ]
     },
     "metadata": {
      "needs_background": "light"
     },
     "output_type": "display_data"
    }
   ],
   "source": [
    "#train-1000-100.csv\n",
    "xtrain3,ytrain3 = Transfer_xy(train100)\n",
    "xtest3,ytest3 = Transfer_xy(train3)\n",
    "MSE_train3, MSE_test3 = MSE_L2_regularized(xtrain3,xtrain3,xtest3,ytest3)\n",
    "\n",
    "λ = np.arange(0,151)\n",
    "#plt.figure(figsize = (10,6),dpi=300)   \n",
    "plt.plot(list(λ),MSE_train3,color= 'r')\n",
    "plt.plot(list(λ),MSE_test3,color='b')\n",
    "plt.xlabel('Lambda')\n",
    "plt.ylabel('Mean Squared Error')\n",
    "plt.title(\"Train100 & Train3 as Test data\")\n",
    "plt.show()"
   ]
  }
 ],
 "metadata": {
  "kernelspec": {
   "display_name": "Python 3",
   "language": "python",
   "name": "python3"
  },
  "language_info": {
   "codemirror_mode": {
    "name": "ipython",
    "version": 3
   },
   "file_extension": ".py",
   "mimetype": "text/x-python",
   "name": "python",
   "nbconvert_exporter": "python",
   "pygments_lexer": "ipython3",
   "version": "3.7.3"
  }
 },
 "nbformat": 4,
 "nbformat_minor": 2
}
